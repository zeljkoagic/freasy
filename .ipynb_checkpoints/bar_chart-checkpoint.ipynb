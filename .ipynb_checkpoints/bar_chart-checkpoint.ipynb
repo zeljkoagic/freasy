{
 "cells": [
  {
   "cell_type": "code",
   "execution_count": 13,
   "metadata": {
    "collapsed": false
   },
   "outputs": [
    {
     "name": "stdout",
     "output_type": "stream",
     "text": [
      "env: :LC_ALL=\"en_US.UTF-8\"\n"
     ]
    },
    {
     "data": {
      "image/png": "[encoded data removed]",
      "text/plain": [
       "<matplotlib.figure.Figure at 0x10bcb5a58>"
      ]
     },
     "metadata": {},
     "output_type": "display_data"
    }
   ],
   "source": [
    "%env:LC_ALL=\"en_US.UTF-8\"\n",
    "%matplotlib inline\n",
    "\n",
    "import numpy as np\n",
    "import matplotlib.pyplot as plt\n",
    "\n",
    "\n",
    "means_women = (49.48, 51.96, 53.53, 51.40, 50.20, 52.32) # 51.40\n",
    "std_women = (5.37, 4.35, 5.48, 5.71, 5.20, 5.30)\n",
    "\n",
    "fig = plt.figure(figsize=(8.5, 5))\n",
    "\n",
    "#fig, ax = plt.subplots()\n",
    "\n",
    "plt.ylim([35,60])\n",
    "\n",
    "index = np.arange(6)\n",
    "bar_width = 0.5\n",
    "error_config = {'ecolor': '0.5', \"linewidth\": \"1\"}\n",
    "opacity = 1\n",
    "colors = ['deepskyblue','deepskyblue','lightsalmon','lightsalmon', 'lime', 'lime']\n",
    "colors_outer = ['blue','blue','red','red', 'darkgreen', 'darkgreen']\n",
    "rects2 = plt.bar(index + bar_width, means_women, bar_width,\n",
    "                 alpha=opacity,\n",
    "                 color=colors,\n",
    "                 yerr=std_women,\n",
    "                 error_kw=error_config,\n",
    "                 align=\"center\",\n",
    "                 linewidth=1,\n",
    "                 edgecolor=colors_outer)\n",
    "\n",
    "#plt.xlabel('Group')\n",
    "plt.ylabel('UAS')\n",
    "#plt.title('')\n",
    "plt.xticks(index + bar_width, ('MULTI', 'SINGLE', 'PROJ1', 'PROJ2', 'selection', 'reparsing'))\n",
    "#plt.legend()\n",
    "plt.axhline(53.53, linestyle=\"--\", color=\"0.5\")\n",
    "plt.axhline(51.40, linestyle=\"--\", color=\"0.5\")\n",
    "\n",
    "plt.tight_layout()\n",
    "plt.rcParams.update({'font.size': 16})  "
   ]
  },
  {
   "cell_type": "code",
   "execution_count": null,
   "metadata": {
    "collapsed": true
   },
   "outputs": [],
   "source": []
  }
 ],
 "metadata": {
  "anaconda-cloud": {},
  "kernelspec": {
   "display_name": "Python [Root]",
   "language": "python",
   "name": "Python [Root]"
  },
  "language_info": {
   "codemirror_mode": {
    "name": "ipython",
    "version": 3
   },
   "file_extension": ".py",
   "mimetype": "text/x-python",
   "name": "python",
   "nbconvert_exporter": "python",
   "pygments_lexer": "ipython3",
   "version": "3.5.2"
  }
 },
 "nbformat": 4,
 "nbformat_minor": 0
}
